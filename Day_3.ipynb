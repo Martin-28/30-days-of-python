{
  "nbformat": 4,
  "nbformat_minor": 0,
  "metadata": {
    "colab": {
      "provenance": [],
      "authorship_tag": "ABX9TyOZTJWBT2JObMr0HOPrGIDt",
      "include_colab_link": true
    },
    "kernelspec": {
      "name": "python3",
      "display_name": "Python 3"
    },
    "language_info": {
      "name": "python"
    }
  },
  "cells": [
    {
      "cell_type": "markdown",
      "metadata": {
        "id": "view-in-github",
        "colab_type": "text"
      },
      "source": [
        "<a href=\"https://colab.research.google.com/github/Martin-28/30-days-of-python/blob/main/Day_3.ipynb\" target=\"_parent\"><img src=\"https://colab.research.google.com/assets/colab-badge.svg\" alt=\"Open In Colab\"/></a>"
      ]
    },
    {
      "cell_type": "markdown",
      "source": [
        "# **1. Operaciones Básicas con Enteros**\n",
        "\n",
        "En Python, puedes realizar las operaciones matemáticas comunes como la **suma**, **resta**, **multiplicación**, y **división** utilizando los símbolos correspondientes.\n",
        "\n",
        "```python\n",
        "# Suma de 1 y 2\n",
        "print('Addition: ', 1 + 2)\n",
        "\n",
        "# Resta de 2 menos 1\n",
        "print('Subtraction: ', 2 - 1)\n",
        "\n",
        "# Multiplicación de 2 por 3\n",
        "print('Multiplication: ', 2 * 3)\n",
        "\n",
        "# División: La división en Python siempre da un número con decimales (flotante)\n",
        "print ('Division: ', 4 / 2)\n",
        "\n",
        "# Ejemplos adicionales de división\n",
        "print('Division: ', 6 / 2)\n",
        "print('Division: ', 7 / 2)\n",
        "\n",
        "# División sin el resto (división entera)\n",
        "print('Division without the remainder: ', 7 // 2)\n",
        "\n",
        "# Módulo: Muestra el resto de la división\n",
        "print('Modulus: ', 3 % 2)\n",
        "\n",
        "# Otra división entera\n",
        "print ('Division without the remainder: ', 7 // 3)\n",
        "\n",
        "# Exponencial: Eleva un número a la potencia de otro\n",
        "print('Exponential: ', 3 ** 2)  # 3 al cuadrado (3 * 3)\n"
      ],
      "metadata": {
        "id": "Lm2m4tPdMKQM"
      }
    },
    {
      "cell_type": "markdown",
      "source": [
        "#**2. Números Flotantes y Complejos**\n",
        "Los números **flotantes** son aquellos que tienen una parte decimal. Python también soporta **números complejos**, que incluyen una parte real e imaginaria."
      ],
      "metadata": {
        "id": "en3ewUnnMrFA"
      }
    },
    {
      "cell_type": "code",
      "source": [
        "# Ejemplo de números flotantes\n",
        "print('Floating Number, PI', 3.14)\n",
        "print('Floating Number, gravity', 9.81)\n",
        "\n",
        "# Ejemplo de números complejos\n",
        "print('Complex number: ', 1 + 1j)\n",
        "print('Multiplying complex number: ',(1 + 1j) * (1-1j))  # Producto de números complejos\n"
      ],
      "metadata": {
        "id": "FlpSOhmyM8nk"
      },
      "execution_count": null,
      "outputs": []
    },
    {
      "cell_type": "markdown",
      "source": [
        "# **3. Declaración de Variables**\n",
        "Puedes asignar valores a **variables** y luego realizar operaciones con ellas."
      ],
      "metadata": {
        "id": "d_T0TMXfNFYL"
      }
    },
    {
      "cell_type": "code",
      "source": [
        "# Declaramos dos variables 'a' y 'b'\n",
        "a = 3 # 'a' es una variable con valor entero 3\n",
        "b = 2 # 'b' es una variable con valor entero 2\n",
        "\n",
        "# Realizamos operaciones aritméticas y almacenamos los resultados en nuevas variables\n",
        "total = a + b\n",
        "diff = a - b\n",
        "product = a * b\n",
        "division = a / b\n",
        "remainder = a % b\n",
        "floor_division = a // b\n",
        "exponential = a ** b\n",
        "\n",
        "# Mostramos los resultados de las operaciones con etiquetas\n",
        "print('a + b = ', total)\n",
        "print('a - b = ', diff)\n",
        "print('a * b = ', product)\n",
        "print('a / b = ', division)\n",
        "print('a % b = ', remainder)\n",
        "print('a // b = ', floor_division)\n",
        "print('a ** b = ', exponential)\n"
      ],
      "metadata": {
        "id": "rvak0jY2NMxu"
      },
      "execution_count": null,
      "outputs": []
    },
    {
      "cell_type": "markdown",
      "source": [
        "# **4. Operaciones Aritméticas con Otras Variables**\n",
        "También puedes realizar operaciones aritméticas con diferentes variables para organizar cálculos."
      ],
      "metadata": {
        "id": "hzKVv2EaNP0A"
      }
    },
    {
      "cell_type": "code",
      "source": [
        "# Declaramos dos nuevas variables\n",
        "num_one = 3\n",
        "num_two = 4\n",
        "\n",
        "# Realizamos operaciones aritméticas con ellas\n",
        "total = num_one + num_two\n",
        "diff = num_two - num_one\n",
        "product = num_one * num_two\n",
        "div = num_two / num_two\n",
        "remainder = num_two % num_one\n",
        "\n",
        "# Imprimimos los resultados con etiquetas\n",
        "print('total: ', total)\n",
        "print('difference: ', diff)\n",
        "print('product: ', product)\n",
        "print('division: ', div)\n",
        "print('remainder: ', remainder)\n"
      ],
      "metadata": {
        "id": "BdfFA9zmNTJ1"
      },
      "execution_count": null,
      "outputs": []
    },
    {
      "cell_type": "markdown",
      "source": [
        "# **5. Cálculos con Fórmulas**\n",
        "Podemos usar variables para realizar cálculos más complejos, como el área de un círculo, rectángulo o el peso de un objeto."
      ],
      "metadata": {
        "id": "VKF0izcYNWgx"
      }
    },
    {
      "cell_type": "code",
      "source": [
        "# Área de un círculo (radio al cuadrado * PI)\n",
        "radius = 10\n",
        "area_of_circle = 3.14 * radius ** 2\n",
        "print('Area of a circle:', area_of_circle)\n",
        "\n",
        "# Área de un rectángulo (largo * ancho)\n",
        "length = 10\n",
        "width = 20\n",
        "area_of_rectangle = length * width\n",
        "print('Area of rectangle:', area_of_rectangle)\n",
        "\n",
        "# Cálculo del peso (masa * gravedad)\n",
        "mass = 75\n",
        "gravity = 9.81\n",
        "weight = mass * gravity\n",
        "print(weight, 'N')  # Mostramos el peso en Newtons\n"
      ],
      "metadata": {
        "id": "Dl6P81yONX9t"
      },
      "execution_count": null,
      "outputs": []
    },
    {
      "cell_type": "markdown",
      "source": [
        "# **6. Comparaciones Booleanas**\n",
        "En Python, puedes comparar valores utilizando operadores de comparación. Estos devuelven **True** o **False** dependiendo de si la comparación es verdadera o falsa."
      ],
      "metadata": {
        "id": "WLPktkxVNck7"
      }
    },
    {
      "cell_type": "code",
      "source": [
        "# Comparaciones de mayor y menor\n",
        "print(3 > 2)     # True, porque 3 es mayor que 2\n",
        "print(3 >= 2)    # True, porque 3 es mayor o igual a 2\n",
        "print(3 < 2)     # False, porque 3 no es menor que 2\n",
        "print(2 < 3)     # True, porque 2 es menor que 3\n",
        "\n",
        "# Comparaciones de igualdad\n",
        "print(3 == 2)    # False, porque 3 no es igual a 2\n",
        "print(3 != 2)    # True, porque 3 es diferente de 2\n",
        "\n",
        "# Comparaciones de longitud de cadenas\n",
        "print(len('mango') == len('avocado'))  # False, porque tienen diferente longitud\n",
        "print(len('mango') != len('avocado'))  # True, porque las longitudes no son iguales\n"
      ],
      "metadata": {
        "id": "U_4W5gMbNiFU"
      },
      "execution_count": null,
      "outputs": []
    },
    {
      "cell_type": "markdown",
      "source": [
        "# **7. Comparaciones con Booleanos**\n",
        "Las comparaciones booleanas también pueden ser hechas entre valores **True** o **False**."
      ],
      "metadata": {
        "id": "eGGHmawvNoW-"
      }
    },
    {
      "cell_type": "code",
      "source": [
        "# Comparaciones booleanas\n",
        "print('True == True: ', True == True)        # True\n",
        "print('True == False: ', True == False)      # False\n",
        "print('False == False:', False == False)     # True\n",
        "\n",
        "# Operadores lógicos: and, or, not\n",
        "print('True and True: ', True and True)      # True\n",
        "print('True or False:', True or False)       # True\n",
        "print(not 3 > 2)                             # False, porque 3 > 2 es True, y not True es False\n"
      ],
      "metadata": {
        "id": "DFzYma9dNrik"
      },
      "execution_count": null,
      "outputs": []
    },
    {
      "cell_type": "markdown",
      "source": [
        "# **Resumen final:**\n",
        "En este notebook hemos explorado las operaciones aritméticas y comparaciones en Python, desde sumas y restas hasta comparaciones booleanas. Estas son algunas de las herramientas básicas que Python nos proporciona para manipular datos numéricos y realizar comparaciones lógicas."
      ],
      "metadata": {
        "id": "q2oUqvSqNwvx"
      }
    }
  ]
}