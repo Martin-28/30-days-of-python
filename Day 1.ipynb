{
  "nbformat": 4,
  "nbformat_minor": 0,
  "metadata": {
    "colab": {
      "provenance": [],
      "toc_visible": true,
      "authorship_tag": "ABX9TyMDz6KpCIfm8LLcfqZMAagw",
      "include_colab_link": true
    },
    "kernelspec": {
      "name": "python3",
      "display_name": "Python 3"
    },
    "language_info": {
      "name": "python"
    }
  },
  "cells": [
    {
      "cell_type": "markdown",
      "metadata": {
        "id": "view-in-github",
        "colab_type": "text"
      },
      "source": [
        "<a href=\"https://colab.research.google.com/github/Martin-28/30-days-of-python/blob/main/Day%201.ipynb\" target=\"_parent\"><img src=\"https://colab.research.google.com/assets/colab-badge.svg\" alt=\"Open In Colab\"/></a>"
      ]
    },
    {
      "cell_type": "markdown",
      "source": [
        "# **1. ¿Qué son las variables?**\n",
        "\n",
        "Imagina que tienes cajitas donde puedes guardar cosas. A estas cajitas les pones un nombre, para que luego puedas saber qué hay dentro de cada una. Las **variables** en programación son como esas cajitas. En una variable puedes guardar texto, números o incluso listas de cosas.\n",
        "\n",
        "Ejemplo:\n",
        "```python\n",
        "# Guardamos un nombre en la variable 'first_name'\n",
        "first_name = 'Asabeneh'\n",
        "```\n",
        "\n",
        "Aquí, **first_name** es el nombre de la cajita, y lo que guarda dentro es el texto **'Asabeneh'**.\n",
        "\n"
      ],
      "metadata": {
        "id": "ayVqyZ2Zs4rn"
      }
    },
    {
      "cell_type": "markdown",
      "source": [
        "# **2. Tipos de datos**\n",
        "Las variables pueden guardar diferentes tipos de información:\n",
        "\n",
        "* **Texto (string):** Cuando guardas letras, palabras o frases."
      ],
      "metadata": {
        "id": "KPF9LHNRuOvV"
      }
    },
    {
      "cell_type": "code",
      "source": [
        "# Guardamos un nombre en la variable 'first_name'\n",
        "first_name = 'Asabeneh'\n",
        "# Guardamos un país en la variable 'country'\n",
        "country = 'Finland'\n"
      ],
      "metadata": {
        "id": "tR8WfyZ6uSpF"
      },
      "execution_count": null,
      "outputs": []
    },
    {
      "cell_type": "markdown",
      "source": [
        "* **Números:** Como la edad de una persona.\n",
        "\n",
        "\n"
      ],
      "metadata": {
        "id": "ivowRF6-uWLl"
      }
    },
    {
      "cell_type": "code",
      "source": [
        "# Guardamos la edad en la variable 'age'\n",
        "age = 250\n"
      ],
      "metadata": {
        "id": "nm7o24mwuXH8"
      },
      "execution_count": null,
      "outputs": []
    },
    {
      "cell_type": "markdown",
      "source": [
        "* **Cierto o falso (booleano):** Un valor que puede ser verdadero (**True**) o falso (**False**)."
      ],
      "metadata": {
        "id": "_CsAVGmsu2Zc"
      }
    },
    {
      "cell_type": "code",
      "source": [
        "# Guardamos un valor booleano en la variable 'is_married'\n",
        "is_married = True\n"
      ],
      "metadata": {
        "id": "aWkq3c3wu6fU"
      },
      "execution_count": null,
      "outputs": []
    },
    {
      "cell_type": "markdown",
      "source": [
        "* **Listas:** Son como un grupo de cosas, donde guardas varios elementos. Piensa en una lista de compras o de habilidades."
      ],
      "metadata": {
        "id": "yGSoIsTru78S"
      }
    },
    {
      "cell_type": "code",
      "source": [
        "# Guardamos una lista de habilidades en la variable 'skills'\n",
        "skills = ['HTML', 'CSS', 'JS', 'React', 'Python']\n"
      ],
      "metadata": {
        "id": "XNOqFPwLu-Kt"
      },
      "execution_count": null,
      "outputs": []
    },
    {
      "cell_type": "markdown",
      "source": [
        "* **Diccionarios:** Son como cajas que tienen etiquetas. Cada etiqueta tiene algo guardado. Por ejemplo, una etiqueta puede ser “nombre” y lo que guardas ahí es el nombre de una persona."
      ],
      "metadata": {
        "id": "rY4ZRXQnvBgb"
      }
    },
    {
      "cell_type": "code",
      "source": [
        "# Guardamos un diccionario con información personal en 'person_info'\n",
        "person_info = {\n",
        "    'firstname':'Asabeneh',\n",
        "    'lastname':'Yetayeh',\n",
        "    'country':'Finland',\n",
        "    'city':'Helsinki'\n",
        "}\n"
      ],
      "metadata": {
        "id": "OuLnylh0vFnL"
      },
      "execution_count": null,
      "outputs": []
    },
    {
      "cell_type": "markdown",
      "source": [
        "# **3. ¿Cómo vemos qué hay dentro de una variable?**\n",
        "Para ver lo que hay en una cajita (variable), usamos el comando **print().** Este comando te muestra lo que has guardado."
      ],
      "metadata": {
        "id": "T8ATnbwjvi9Q"
      }
    },
    {
      "cell_type": "code",
      "source": [
        "# Imprimimos el valor de la variable 'first_name' junto con un texto\n",
        "print('First name:', first_name)\n"
      ],
      "metadata": {
        "id": "CJeQeWNzvq1V"
      },
      "execution_count": null,
      "outputs": []
    },
    {
      "cell_type": "markdown",
      "source": [
        "Este comando mostrará el texto **'First name:'** seguido del valor guardado en la variable **first_name**.\n",
        "\n",
        "\n",
        "*   Elemento de la lista\n",
        "*   Elemento de la lista\n",
        "\n",
        "\n",
        "Otro ejemplo:"
      ],
      "metadata": {
        "id": "KSY6PK5vwEnm"
      }
    },
    {
      "cell_type": "code",
      "source": [
        "# Imprimimos la lista de habilidades guardada en la variable 'skills'\n",
        "print('Skills:', skills)\n"
      ],
      "metadata": {
        "id": "qVWevr3owKu4"
      },
      "execution_count": null,
      "outputs": []
    },
    {
      "cell_type": "markdown",
      "source": [
        "Este comando mostrará las habilidades que guardaste en la variable **skills**."
      ],
      "metadata": {
        "id": "MEnT-nnaw1dV"
      }
    },
    {
      "cell_type": "markdown",
      "source": [
        "# **4. ¿Qué significa len()?**\n",
        "\n",
        "A veces queremos saber cuántas letras tiene un nombre o una palabra. Para eso usamos la función **len()**, que cuenta el número de letras o elementos."
      ],
      "metadata": {
        "id": "xKcLGualw28C"
      }
    },
    {
      "cell_type": "code",
      "source": [
        "# Imprimimos la cantidad de letras en el nombre guardado en 'first_name'\n",
        "print('First name length:', len(first_name))\n"
      ],
      "metadata": {
        "id": "5y2oGdymxFxR"
      },
      "execution_count": null,
      "outputs": []
    },
    {
      "cell_type": "markdown",
      "source": [
        "Este comando le pide a la computadora que cuente cuántas letras tiene el nombre que guardamos en **first_name** y lo muestre."
      ],
      "metadata": {
        "id": "1zgPSb36xJXf"
      }
    },
    {
      "cell_type": "markdown",
      "source": [
        "# **5. Declarar varias variables al mismo tiempo**\n",
        "\n",
        "Puedes hacer que varias cajitas (variables) guarden cosas al mismo tiempo en una sola línea de código. Así:"
      ],
      "metadata": {
        "id": "mFHnjfStxMDQ"
      }
    },
    {
      "cell_type": "code",
      "source": [
        "# Declaramos varias variables al mismo tiempo y les asignamos valores\n",
        "first_name, last_name, country, age, is_married = 'Asabeneh', 'Yetayeh', 'Finland', 250, True\n"
      ],
      "metadata": {
        "id": "dVOuqcPgxNrZ"
      },
      "execution_count": null,
      "outputs": []
    },
    {
      "cell_type": "markdown",
      "source": [
        "Esto es como llenar varias cajitas de una sola vez. A la izquierda están las cajitas y a la derecha lo que pones en ellas."
      ],
      "metadata": {
        "id": "sapJZkeVxTVg"
      }
    },
    {
      "cell_type": "markdown",
      "source": [
        "# **Resumen final:**\n",
        "* Una **variable** es como una cajita donde guardas información (nombre, número, lista, etc.).\n",
        "* Usamos **print()** para ver qué hay dentro de la cajita.\n",
        "* **len()** cuenta cuántas letras tiene un texto.\n",
        "* Puedes guardar varias cosas al mismo tiempo en una sola línea.\n",
        "\n",
        "Este es el primer paso para entender cómo funciona la programación en Python. ¡Es como aprender a etiquetar y organizar información para poder usarla más adelante!"
      ],
      "metadata": {
        "id": "X2LcWnch0veY"
      }
    }
  ]
}